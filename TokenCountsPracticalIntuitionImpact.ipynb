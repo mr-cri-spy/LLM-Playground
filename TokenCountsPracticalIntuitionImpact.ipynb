{
  "nbformat": 4,
  "nbformat_minor": 0,
  "metadata": {
    "colab": {
      "provenance": [],
      "authorship_tag": "ABX9TyNPrXZMHf7TlWM3v4GizQ3I",
      "include_colab_link": true
    },
    "kernelspec": {
      "name": "python3",
      "display_name": "Python 3"
    },
    "language_info": {
      "name": "python"
    }
  },
  "cells": [
    {
      "cell_type": "markdown",
      "metadata": {
        "id": "view-in-github",
        "colab_type": "text"
      },
      "source": [
        "<a href=\"https://colab.research.google.com/github/mr-cri-spy/LLM-Playground/blob/main/TokenCountsPracticalIntuitionImpact.ipynb\" target=\"_parent\"><img src=\"https://colab.research.google.com/assets/colab-badge.svg\" alt=\"Open In Colab\"/></a>"
      ]
    },
    {
      "cell_type": "markdown",
      "source": [
        "Install and understand the purpose of specific library versions.\n",
        "Gain practical intuition on how token counts can impact model performance.\n",
        "Analyze tokenization to understand text preprocessing in natural language processing models."
      ],
      "metadata": {
        "id": "-MwpORzzGLAD"
      }
    },
    {
      "cell_type": "code",
      "source": [
        "!pip install transformers==4.41.0"
      ],
      "metadata": {
        "colab": {
          "base_uri": "https://localhost:8080/"
        },
        "id": "9p1ynmioGVa_",
        "outputId": "ab5ddc17-2eab-4d8b-8122-2d3d8d793f86"
      },
      "execution_count": 10,
      "outputs": [
        {
          "output_type": "stream",
          "name": "stdout",
          "text": [
            "Requirement already satisfied: transformers==4.41.0 in /usr/local/lib/python3.11/dist-packages (4.41.0)\n",
            "Requirement already satisfied: filelock in /usr/local/lib/python3.11/dist-packages (from transformers==4.41.0) (3.18.0)\n",
            "Requirement already satisfied: huggingface-hub<1.0,>=0.23.0 in /usr/local/lib/python3.11/dist-packages (from transformers==4.41.0) (0.34.4)\n",
            "Requirement already satisfied: numpy>=1.17 in /usr/local/lib/python3.11/dist-packages (from transformers==4.41.0) (2.0.2)\n",
            "Requirement already satisfied: packaging>=20.0 in /usr/local/lib/python3.11/dist-packages (from transformers==4.41.0) (25.0)\n",
            "Requirement already satisfied: pyyaml>=5.1 in /usr/local/lib/python3.11/dist-packages (from transformers==4.41.0) (6.0.2)\n",
            "Requirement already satisfied: regex!=2019.12.17 in /usr/local/lib/python3.11/dist-packages (from transformers==4.41.0) (2024.11.6)\n",
            "Requirement already satisfied: requests in /usr/local/lib/python3.11/dist-packages (from transformers==4.41.0) (2.32.3)\n",
            "Requirement already satisfied: tokenizers<0.20,>=0.19 in /usr/local/lib/python3.11/dist-packages (from transformers==4.41.0) (0.19.1)\n",
            "Requirement already satisfied: safetensors>=0.4.1 in /usr/local/lib/python3.11/dist-packages (from transformers==4.41.0) (0.6.2)\n",
            "Requirement already satisfied: tqdm>=4.27 in /usr/local/lib/python3.11/dist-packages (from transformers==4.41.0) (4.67.1)\n",
            "Requirement already satisfied: fsspec>=2023.5.0 in /usr/local/lib/python3.11/dist-packages (from huggingface-hub<1.0,>=0.23.0->transformers==4.41.0) (2025.3.0)\n",
            "Requirement already satisfied: typing-extensions>=3.7.4.3 in /usr/local/lib/python3.11/dist-packages (from huggingface-hub<1.0,>=0.23.0->transformers==4.41.0) (4.14.1)\n",
            "Requirement already satisfied: hf-xet<2.0.0,>=1.1.3 in /usr/local/lib/python3.11/dist-packages (from huggingface-hub<1.0,>=0.23.0->transformers==4.41.0) (1.1.7)\n",
            "Requirement already satisfied: charset-normalizer<4,>=2 in /usr/local/lib/python3.11/dist-packages (from requests->transformers==4.41.0) (3.4.3)\n",
            "Requirement already satisfied: idna<4,>=2.5 in /usr/local/lib/python3.11/dist-packages (from requests->transformers==4.41.0) (3.10)\n",
            "Requirement already satisfied: urllib3<3,>=1.21.1 in /usr/local/lib/python3.11/dist-packages (from requests->transformers==4.41.0) (2.5.0)\n",
            "Requirement already satisfied: certifi>=2017.4.17 in /usr/local/lib/python3.11/dist-packages (from requests->transformers==4.41.0) (2025.8.3)\n"
          ]
        }
      ]
    },
    {
      "cell_type": "code",
      "source": [
        "from transformers import AutoTokenizer"
      ],
      "metadata": {
        "id": "v4DoRNNUGVz0"
      },
      "execution_count": 11,
      "outputs": []
    },
    {
      "cell_type": "markdown",
      "source": [
        "Initialize the tokenizer with a specific pre-trained model. We will also check the vocabulary size to understand the scope of tokens it can handle."
      ],
      "metadata": {
        "id": "I6CbN_uIGo7U"
      }
    },
    {
      "cell_type": "code",
      "source": [
        "tokenizer = AutoTokenizer.from_pretrained(\"unsloth/llama-3-8b-Instruct\")\n",
        "tokenizer.vocab_size"
      ],
      "metadata": {
        "colab": {
          "base_uri": "https://localhost:8080/"
        },
        "id": "htBIYlO6GgW2",
        "outputId": "722166d0-b88e-44f8-a1e0-3e53e8a8bc08"
      },
      "execution_count": 12,
      "outputs": [
        {
          "output_type": "stream",
          "name": "stderr",
          "text": [
            "Special tokens have been added in the vocabulary, make sure the associated word embeddings are fine-tuned or trained.\n"
          ]
        },
        {
          "output_type": "execute_result",
          "data": {
            "text/plain": [
              "128000"
            ]
          },
          "metadata": {},
          "execution_count": 12
        }
      ]
    },
    {
      "cell_type": "code",
      "source": [
        "text = \"\"\"\n",
        "Mysore , officially Mysuru (Kannada: [ˈmaɪˈsuːɾu] ⓘ), is a city in the southern Indian state of Karnataka.[5] It is the headquarters of Mysore district and Mysore division. As the traditional seat of the Wadiyar dynasty, the city functioned as the capital of the Kingdom of Mysore for almost six centuries (1399 to 1947). Known for its heritage structures, palaces (such as the famous Mysore Palace), and its culture, Mysore has been called the \"City of Palaces\", the \"Heritage City\",[6] and the \"Cultural capital of Karnataka\".[7] It is the second-most populous city in the state and one of the cleanest cities in India according to the Swachh Survekshan.\n",
        "\n",
        "Mysore is situated at the foothills of the Chamundi Hills. At an altitude of 770 m (2,530 ft) above mean sea level, the city of Mysore is geographically located at 12° 18′ 26″ north latitude and 76° 38′ 59″ east longitude. It is about 140 km (87.0 mi) southwest of the state's capital, Bangalore, and spreads across an area of 156 km2 (60 sq mi) (city and neighbouring census towns).[8] The population of the city combined with its neighbouring towns in its metropolitan area is about 1,288,000 in 2023.[9]\n",
        "\n",
        "Most of the city's development during modern times could be attributed to the maharajas of Mysore and the Wadiyar dynasty, who were patrons of art and culture. Hyder Ali and Tipu Sultan, when they were briefly in power in succession, also contributed significantly to the economic growth of the city and the kingdom by planting mulberry trees and silk in the region, and fighting four wars against the British. In present days, the Mysore City Corporation is responsible for the civic administration of the city.\n",
        "\n",
        "During the Dasara festivals, Mysore receives hundreds of thousands of tourists from around the world. The city is also the namesake to various art forms and culture, such as Mysore Dasara and Mysore painting; foods such as the sweet delicacy Mysore pak; breakfasts like Mysore Dosa and Mysore Masala Dosa; brands such as Mysore Sandal Soap and Mysore Paints; and styles and cosmetics such as Mysore peta, a traditional silk turban, and the Mysore silk saris. Mysore is also known for betel leaves and its own special variety of jasmine flower fondly referred to as \"Mysore mallige\". Tourism is a lifeline industry for the city alongside the traditional industries. Mysore's intracity public transportation includes bus and intercity public transportation includes rail, bus, and air.[10]\n",
        "\n",
        "Etymology\n",
        "The name Mysore is an anglicised form of Mahiṣūru,[11] which means \"the abode of Mahiṣa\" in the vernacular Kannada. The common noun Mahiṣa, in Sanskrit, means buffalo; in this context, however, Mahiṣa refers to Mahishasura, a mythical daemon who could assume the form of either a human or a buffalo, and who, according to Hindu mythology, ruled the ancient parts of Mysore Kingdom, known in Sanskrit as Mahiṣaka, centred at Mahiṣapura.[11] He was killed by the goddess Chamundeshwari, whose temple is situated atop the Chamundi Hill, after whom it is named. 'Mahishapura'[12] later became Mahisūru (a name which, even now, the royal family uses), and finally came to be rendered as Mysore by the British and Maisūru (Mysuru) in the vernacular Kannada language.[13]\n",
        "\n",
        "In December 2005, the Government of Karnataka announced its intention to change the English spelling of the city to Mysuru.[14] This was approved by the Government of India in October 2014, and Mysore was officially renamed, along with twelve other cities, on 1 November 2014.[15][16][17][18]\n",
        "\n",
        "History\n",
        "Further information: Kingdom of Mysore\n",
        "\n",
        "Chamundeshwari Temple dedicated to Goddess Chamundeshwari, tutelary deity of Mysore city.\n",
        "\n",
        "Map of Mysore and nearby Srirangapatna, c. 1914\n",
        "The site where Mysore Palace now stands was occupied by a village named Puragere at the beginning of the 16th century.[19]: 281  The Mahishūru Fort was constructed in 1524 by Chamaraja Wodeyar III (1513–1553),[19]: 257  who passed on the dominion of Puragere to his son Chamaraja Wodeyar IV (1572–1576). Since the 16th century, the name of Mayashūru has commonly been used to denote the city.[20]: 31  The Kingdom of Mysore, governed by the Wodeyar family, initially served as a vassal state of the Vijayanagara Empire. With the decline of that empire after the Battle of Talikota in 1565, the Mysore Kingdom gradually achieved independence, and by the time of King Narasaraja Wodeyar (1637), it had become a sovereign state.[21]: 228  Seringapatam, near Mysore, the present-day Srirangapatna, was the capital of the kingdom beginning in 1610.[19]: 257  The 17th century saw a steady expansion of its territory and, under Narasaraja Wodeyar I and Chikka Devaraja Wodeyar, the kingdom annexed large areas of what is now southern Karnataka and parts of Tamil Nadu, to become a powerful state in the southern Deccan.\n",
        "\n",
        "The kingdom reached the height of its military power and dominion in the latter half of the 18th century, under the de facto rulers Hyder Ali and his son Tipu Sultan. The latter demolished parts of Mysore to remove legacies of the Wodeyar dynasty.[19]: 257  During this time, the kingdom of Mysore came into conflict with the Marathas, the British, and the Nizam of Hyderabad, leading to the four Anglo-Mysore wars, success in the first two of which was followed by defeat in the third and fourth. After Tipu Sultan's death in the Fourth Anglo-Mysore War in 1799, the capital of the kingdom was moved back to Mysore from Seringapatam,[21]: 249  and the kingdom was distributed by the British to their allies of the Fourth Anglo-Mysore War. Part of the kingdom was annexed into the Madras Presidency, another to the Nizam of Hyderabad. The landlocked interior of the defeated kingdom of Mysore was turned into a princely state under the suzerainty of the British Crown,[21]: 249  with the five-year-old Wodeyar Krishnaraja III as titular ruler and with Purnaiah, who had served under Tipu, as chief minister or diwan and Lt. Col. Barry Close as Resident. The British took control of Mysore's foreign policy and insisted on an annual tribute for maintaining a standing British army at Mysore.[22][23][24] Purnaiah is credited with improving Mysore's public works.[21] In 1831, claiming there was maladministration, the British took direct control of the princely state.[25][26] For the next fifty years, the kingdom of Mysore was under the direct rule of British Commissioners,[27] and in 1831 the city of Mysore lost its status as the administrative centre, when the British Commissioner moved the capital to Bangalore.[21]: 251\n",
        "\n",
        "In 1876–77, towards the end of the period of direct British rule, Mysore suffered from the Great Famine of 1876–1878, in which nearly a fifth of the population died.[28] In 1881, Maharaja Chamaraja Wadiyar X was given control of Mysore, in a process called rendition, but with a resident British officer and a diwan to handle the Maharaja's administration,[29] and the city of Mysore regained its status as the capital.[21]: 254  The Mysore municipality was established in 1888 and the city was divided into eight wards.[20]: 283  In 1897 an outbreak of bubonic plague killed nearly half of the population of the city.[30] With the establishment of the City Improvement Trust Board (CITB) in 1903, Mysore became one of the first cities in Asia to undertake planned urban development.[31] Public demonstrations and meetings were held there during the Quit India movement and other phases of the Indian independence movement.[32]\n",
        "\n",
        "Until the independence of British India (which did not include Mysore) in 1947, Mysore remained a Princely State within the British Indian Empire, with the Wodeyars continuing their rule.[29] After Indian Independence, Mysore city remained as part of the Mysore State, now known as Karnataka. Jayachamarajendra Wodeyar, then king of Mysore, was allowed to retain his titles and was nominated as the Rajapramukh (appointed governor) of the state with a £20,000 payment.[33] He died in September 1974 and was cremated in Mysore.[34]\n",
        "\n",
        "Over the years, Mysore became well known as a centre for tourism; the city remained largely peaceful, except for occasional riots related to the Kaveri River Water Dispute.[35] Among the events that took place in Mysore and made national headlines were a fire at a television studio that claimed 62 lives in 1989,[36] and the sudden deaths of many animals at the Mysore Zoo.[37]\n",
        "\n",
        "Geography\n",
        "Area and extent\n",
        "\n",
        "View of the city from Chamundi Hills\n",
        "\n",
        "Mysore Palace seen from Chamundi Hill Viewpoint at night\n",
        "Mysore is located at 12.30°N 74.65°E and has an average altitude of 770 metres (2,526 ft).[38] It is spread across an area of 286.05 km2 (110 sq mi)[39]: 4  at the base of the Chamundi Hills in the southern region of Karnataka. Mysore is the southernmost city of Karnataka and is a neighbouring city of the states of Kerala and Tamil Nadu in the south, flanked by the state cities Madikeri, Chamarajanagara, and Mandya. People in and around Mysore extensively use Kannada as a medium of language. Mysore has several lakes, such as the Kukkarahalli, the Karanji, and the Lingambudhi lakes. Mysore has The Biggest 'Walk-Through Aviary' called Karanji Lake in India. In 2001, total land area usage in Mysore city was 39.9% residential, 16.1% roads, 13.74% parks and open spaces, 13.48% industrial, 8.96% public property, 3.02% commercial, 2.27% agriculture and 2.02 water.[40]: 35  The city is located between two rivers: the Kaveri River that flows through the north of the city and the Kabini River, a tributary of the Kaveri, that lies to the\n",
        "south.\"\"\""
      ],
      "metadata": {
        "id": "-l3hOFJNG-lO"
      },
      "execution_count": 13,
      "outputs": []
    },
    {
      "cell_type": "markdown",
      "source": [
        "#Tokenization and Counting\n",
        "Tokenize the provided text and count the number of tokens. This measure is important to evaluate how much information the model processes at once and impacts performance and accuracy."
      ],
      "metadata": {
        "id": "X7f65RL9HEPC"
      }
    },
    {
      "cell_type": "code",
      "source": [
        "input_ids = tokenizer(text).input_ids\n",
        "len(input_ids)"
      ],
      "metadata": {
        "colab": {
          "base_uri": "https://localhost:8080/"
        },
        "id": "FDT-_ePPG_Qh",
        "outputId": "e204a745-d202-4c49-d898-abe2f7c80cd7"
      },
      "execution_count": 14,
      "outputs": [
        {
          "output_type": "execute_result",
          "data": {
            "text/plain": [
              "2473"
            ]
          },
          "metadata": {},
          "execution_count": 14
        }
      ]
    }
  ]
}
