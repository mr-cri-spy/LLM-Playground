
{
  "nbformat": 4,
  "nbformat_minor": 0,
  "metadata": {
    "colab": {
      "provenance": [],
      "authorship_tag": "ABX9TyPxeeAngl1Z6LY9s6YNtYLM",
      "include_colab_link": true
    },
    "kernelspec": {
      "name": "python3",
      "display_name": "Python 3"
    },
    "language_info": {
      "name": "python"
    },
    "widgets": {
      "application/vnd.jupyter.widget-state+json": {
        "f1a42412d3c94f519be84163ed57b461": {
          "model_module": "@jupyter-widgets/controls",
          "model_name": "HBoxModel",
          "model_module_version": "1.5.0",
          "state": {
            "_dom_classes": [],
            "_model_module": "@jupyter-widgets/controls",
            "_model_module_version": "1.5.0",
            "_model_name": "HBoxModel",
            "_view_count": null,
            "_view_module": "@jupyter-widgets/controls",
            "_view_module_version": "1.5.0",
            "_view_name": "HBoxView",
            "box_style": "",
            "children": [
              "IPY_MODEL_937dda72bbeb4f43affac4f3ae9859d2",
              "IPY_MODEL_f0f0181585eb4056839a642730b77119",
              "IPY_MODEL_0e4a32830a4449238cb0c48bf306c554"
            ],
            "layout": "IPY_MODEL_db78b4842ce04fa6abe9b12adc47dc7b"
          }
        },
        "937dda72bbeb4f43affac4f3ae9859d2": {
          "model_module": "@jupyter-widgets/controls",
          "model_name": "HTMLModel",
          "model_module_version": "1.5.0",
          "state": {
            "_dom_classes": [],
            "_model_module": "@jupyter-widgets/controls",
            "_model_module_version": "1.5.0",
            "_model_name": "HTMLModel",
            "_view_count": null,
            "_view_module": "@jupyter-widgets/controls",
            "_view_module_version": "1.5.0",
            "_view_name": "HTMLView",
            "description": "",
            "description_tooltip": null,
            "layout": "IPY_MODEL_048c4830d03f4ad687dcc0e96a208c09",
            "placeholder": "​",
            "style": "IPY_MODEL_eb8cb3d4da944ac285b75a6842705b4d",
            "value": "tokenizer_config.json: "
          }
        },
        "f0f0181585eb4056839a642730b77119": {
          "model_module": "@jupyter-widgets/controls",
          "model_name": "FloatProgressModel",
          "model_module_version": "1.5.0",
          "state": {
            "_dom_classes": [],
            "_model_module": "@jupyter-widgets/controls",
            "_model_module_version": "1.5.0",
            "_model_name": "FloatProgressModel",
            "_view_count": null,
            "_view_module": "@jupyter-widgets/controls",
            "_view_module_version": "1.5.0",
            "_view_name": "ProgressView",
            "bar_style": "success",
            "description": "",
            "description_tooltip": null,
            "layout": "IPY_MODEL_0eee95265e864124838ffa99c0615e66",
            "max": 1,
            "min": 0,
            "orientation": "horizontal",
            "style": "IPY_MODEL_e65eca8a6e1d4bee9ded2ff843f80a92",
            "value": 1
          }
        },
        "0e4a32830a4449238cb0c48bf306c554": {
          "model_module": "@jupyter-widgets/controls",
          "model_name": "HTMLModel",
          "model_module_version": "1.5.0",
          "state": {
            "_dom_classes": [],
            "_model_module": "@jupyter-widgets/controls",
            "_model_module_version": "1.5.0",
            "_model_name": "HTMLModel",
            "_view_count": null,
            "_view_module": "@jupyter-widgets/controls",
            "_view_module_version": "1.5.0",
            "_view_name": "HTMLView",
            "description": "",
            "description_tooltip": null,
            "layout": "IPY_MODEL_16c1e60fc4c14cc59f84d5f1c149677d",
            "placeholder": "​",
            "style": "IPY_MODEL_0094d5647f55484ca9bdf1cb761e8cba",
            "value": " 51.1k/? [00:00&lt;00:00, 1.72MB/s]"
          }
        },
        "db78b4842ce04fa6abe9b12adc47dc7b": {
          "model_module": "@jupyter-widgets/base",
          "model_name": "LayoutModel",
          "model_module_version": "1.2.0",
          "state": {
            "_model_module": "@jupyter-widgets/base",
            "_model_module_version": "1.2.0",
            "_model_name": "LayoutModel",
            "_view_count": null,
            "_view_module": "@jupyter-widgets/base",
            "_view_module_version": "1.2.0",
            "_view_name": "LayoutView",
            "align_content": null,
            "align_items": null,
            "align_self": null,
            "border": null,
            "bottom": null,
            "display": null,
            "flex": null,
            "flex_flow": null,
            "grid_area": null,
            "grid_auto_columns": null,
            "grid_auto_flow": null,
            "grid_auto_rows": null,
            "grid_column": null,
            "grid_gap": null,
            "grid_row": null,
            "grid_template_areas": null,
            "grid_template_columns": null,
            "grid_template_rows": null,
            "height": null,
            "justify_content": null,
            "justify_items": null,
            "left": null,
            "margin": null,
            "max_height": null,
            "max_width": null,
            "min_height": null,
            "min_width": null,
            "object_fit": null,
            "object_position": null,
            "order": null,
            "overflow": null,
            "overflow_x": null,
            "overflow_y": null,
            "padding": null,
            "right": null,
            "top": null,
            "visibility": null,
            "width": null
          }
        },
        "048c4830d03f4ad687dcc0e96a208c09": {
          "model_module": "@jupyter-widgets/base",
          "model_name": "LayoutModel",
          "model_module_version": "1.2.0",
          "state": {
            "_model_module": "@jupyter-widgets/base",
            "_model_module_version": "1.2.0",
            "_model_name": "LayoutModel",
            "_view_count": null,
            "_view_module": "@jupyter-widgets/base",
            "_view_module_version": "1.2.0",
            "_view_name": "LayoutView",
            "align_content": null,
            "align_items": null,
            "align_self": null,
            "border": null,
            "bottom": null,
            "display": null,
            "flex": null,
            "flex_flow": null,
            "grid_area": null,
            "grid_auto_columns": null,
            "grid_auto_flow": null,
            "grid_auto_rows": null,
            "grid_column": null,
            "grid_gap": null,
            "grid_row": null,
            "grid_template_areas": null,
            "grid_template_columns": null,
            "grid_template_rows": null,
            "height": null,
            "justify_content": null,
            "justify_items": null,
            "left": null,
            "margin": null,
            "max_height": null,
            "max_width": null,
            "min_height": null,
            "min_width": null,
            "object_fit": null,
            "object_position": null,
            "order": null,
            "overflow": null,
            "overflow_x": null,
            "overflow_y": null,
            "padding": null,
            "right": null,
            "top": null,
            "visibility": null,
            "width": null
          }
        },
        "eb8cb3d4da944ac285b75a6842705b4d": {
          "model_module": "@jupyter-widgets/controls",
          "model_name": "DescriptionStyleModel",
          "model_module_version": "1.5.0",
          "state": {
            "_model_module": "@jupyter-widgets/controls",
            "_model_module_version": "1.5.0",
            "_model_name": "DescriptionStyleModel",
            "_view_count": null,
            "_view_module": "@jupyter-widgets/base",
            "_view_module_version": "1.2.0",
            "_view_name": "StyleView",
            "description_width": ""
          }
        },
        "0eee95265e864124838ffa99c0615e66": {
          "model_module": "@jupyter-widgets/base",
          "model_name": "LayoutModel",
          "model_module_version": "1.2.0",
          "state": {
            "_model_module": "@jupyter-widgets/base",
            "_model_module_version": "1.2.0",
            "_model_name": "LayoutModel",
            "_view_count": null,
            "_view_module": "@jupyter-widgets/base",
            "_view_module_version": "1.2.0",
            "_view_name": "LayoutView",
            "align_content": null,
            "align_items": null,
            "align_self": null,
            "border": null,
            "bottom": null,
            "display": null,
            "flex": null,
            "flex_flow": null,
            "grid_area": null,
            "grid_auto_columns": null,
            "grid_auto_flow": null,
            "grid_auto_rows": null,
            "grid_column": null,
            "grid_gap": null,
            "grid_row": null,
            "grid_template_areas": null,
            "grid_template_columns": null,
            "grid_template_rows": null,
            "height": null,
            "justify_content": null,
            "justify_items": null,
            "left": null,
            "margin": null,
            "max_height": null,
            "max_width": null,
            "min_height": null,
            "min_width": null,
            "object_fit": null,
            "object_position": null,
            "order": null,
            "overflow": null,
            "overflow_x": null,
            "overflow_y": null,
            "padding": null,
            "right": null,
            "top": null,
            "visibility": null,
            "width": "20px"
          }
        },
        "e65eca8a6e1d4bee9ded2ff843f80a92": {
          "model_module": "@jupyter-widgets/controls",
          "model_name": "ProgressStyleModel",
          "model_module_version": "1.5.0",
          "state": {
            "_model_module": "@jupyter-widgets/controls",
            "_model_module_version": "1.5.0",
            "_model_name": "ProgressStyleModel",
            "_view_count": null,
            "_view_module": "@jupyter-widgets/base",
            "_view_module_version": "1.2.0",
            "_view_name": "StyleView",
            "bar_color": null,
            "description_width": ""
          }
        },
        "16c1e60fc4c14cc59f84d5f1c149677d": {
          "model_module": "@jupyter-widgets/base",
          "model_name": "LayoutModel",
          "model_module_version": "1.2.0",
          "state": {
            "_model_module": "@jupyter-widgets/base",
            "_model_module_version": "1.2.0",
            "_model_name": "LayoutModel",
            "_view_count": null,
            "_view_module": "@jupyter-widgets/base",
            "_view_module_version": "1.2.0",
            "_view_name": "LayoutView",
            "align_content": null,
            "align_items": null,
            "align_self": null,
            "border": null,
            "bottom": null,
            "display": null,
            "flex": null,
            "flex_flow": null,
            "grid_area": null,
            "grid_auto_columns": null,
            "grid_auto_flow": null,
            "grid_auto_rows": null,
            "grid_column": null,
            "grid_gap": null,
            "grid_row": null,
            "grid_template_areas": null,
            "grid_template_columns": null,
            "grid_template_rows": null,
            "height": null,
            "justify_content": null,
            "justify_items": null,
            "left": null,
            "margin": null,
            "max_height": null,
            "max_width": null,
            "min_height": null,
            "min_width": null,
            "object_fit": null,
            "object_position": null,
            "order": null,
            "overflow": null,
            "overflow_x": null,
            "overflow_y": null,
            "padding": null,
            "right": null,
            "top": null,
            "visibility": null,
            "width": null
          }
        },
        "0094d5647f55484ca9bdf1cb761e8cba": {
          "model_module": "@jupyter-widgets/controls",
          "model_name": "DescriptionStyleModel",
          "model_module_version": "1.5.0",
          "state": {
            "_model_module": "@jupyter-widgets/controls",
            "_model_module_version": "1.5.0",
            "_model_name": "DescriptionStyleModel",
            "_view_count": null,
            "_view_module": "@jupyter-widgets/base",
            "_view_module_version": "1.2.0",
            "_view_name": "StyleView",
            "description_width": ""
          }
        },
        "1c1d55eec0f246a98e57978b3a3857b7": {
          "model_module": "@jupyter-widgets/controls",
          "model_name": "HBoxModel",
          "model_module_version": "1.5.0",
          "state": {
            "_dom_classes": [],
            "_model_module": "@jupyter-widgets/controls",
            "_model_module_version": "1.5.0",
            "_model_name": "HBoxModel",
            "_view_count": null,
            "_view_module": "@jupyter-widgets/controls",
            "_view_module_version": "1.5.0",
            "_view_name": "HBoxView",
            "box_style": "",
            "children": [
              "IPY_MODEL_74355df123274f69888bd8aeee36b47f",
              "IPY_MODEL_54a6875b2b2d420da1d917e4c160d511",
              "IPY_MODEL_35ee998ada8647d2ab6651e25f338e65"
            ],
            "layout": "IPY_MODEL_5d5c4e44fff6472c98bfbd4d3cd592e1"
          }
        },
        "74355df123274f69888bd8aeee36b47f": {
          "model_module": "@jupyter-widgets/controls",
          "model_name": "HTMLModel",
          "model_module_version": "1.5.0",
          "state": {
            "_dom_classes": [],
            "_model_module": "@jupyter-widgets/controls",
            "_model_module_version": "1.5.0",
            "_model_name": "HTMLModel",
            "_view_count": null,
            "_view_module": "@jupyter-widgets/controls",
            "_view_module_version": "1.5.0",
            "_view_name": "HTMLView",
            "description": "",
            "description_tooltip": null,
            "layout": "IPY_MODEL_eb671d90270c4038b3d491dcf725878a",
            "placeholder": "​",
            "style": "IPY_MODEL_117f53f8356c4ccbbed5481b9edb7e58",
            "value": "tokenizer.json: "
          }
        },
        "54a6875b2b2d420da1d917e4c160d511": {
          "model_module": "@jupyter-widgets/controls",
          "model_name": "FloatProgressModel",
          "model_module_version": "1.5.0",
          "state": {
            "_dom_classes": [],
            "_model_module": "@jupyter-widgets/controls",
            "_model_module_version": "1.5.0",
            "_model_name": "FloatProgressModel",
            "_view_count": null,
            "_view_module": "@jupyter-widgets/controls",
            "_view_module_version": "1.5.0",
            "_view_name": "ProgressView",
            "bar_style": "success",
            "description": "",
            "description_tooltip": null,
            "layout": "IPY_MODEL_7112d15051b74754ba4c13ea14275540",
            "max": 1,
            "min": 0,
            "orientation": "horizontal",
            "style": "IPY_MODEL_dcaabe83187a4583b031fc130d2bc810",
            "value": 1
          }
        },
        "35ee998ada8647d2ab6651e25f338e65": {
          "model_module": "@jupyter-widgets/controls",
          "model_name": "HTMLModel",
          "model_module_version": "1.5.0",
          "state": {
            "_dom_classes": [],
            "_model_module": "@jupyter-widgets/controls",
            "_model_module_version": "1.5.0",
            "_model_name": "HTMLModel",
            "_view_count": null,
            "_view_module": "@jupyter-widgets/controls",
            "_view_module_version": "1.5.0",
            "_view_name": "HTMLView",
            "description": "",
            "description_tooltip": null,
            "layout": "IPY_MODEL_c5f957892b6941cda17abef3c79950d6",
            "placeholder": "​",
            "style": "IPY_MODEL_8bcb75bbbe294936bea3a8469e08d323",
            "value": " 9.09M/? [00:00&lt;00:00, 26.8MB/s]"
          }
        },
        "5d5c4e44fff6472c98bfbd4d3cd592e1": {
          "model_module": "@jupyter-widgets/base",
          "model_name": "LayoutModel",
          "model_module_version": "1.2.0",
          "state": {
            "_model_module": "@jupyter-widgets/base",
            "_model_module_version": "1.2.0",
            "_model_name": "LayoutModel",
            "_view_count": null,
            "_view_module": "@jupyter-widgets/base",
            "_view_module_version": "1.2.0",
            "_view_name": "LayoutView",
            "align_content": null,
            "align_items": null,
            "align_self": null,
            "border": null,
            "bottom": null,
            "display": null,
            "flex": null,
            "flex_flow": null,
            "grid_area": null,
            "grid_auto_columns": null,
            "grid_auto_flow": null,
            "grid_auto_rows": null,
            "grid_column": null,
            "grid_gap": null,
            "grid_row": null,
            "grid_template_areas": null,
            "grid_template_columns": null,
            "grid_template_rows": null,
            "height": null,
            "justify_content": null,
            "justify_items": null,
            "left": null,
            "margin": null,
            "max_height": null,
            "max_width": null,
            "min_height": null,
            "min_width": null,
            "object_fit": null,
            "object_position": null,
            "order": null,
            "overflow": null,
            "overflow_x": null,
            "overflow_y": null,
            "padding": null,
            "right": null,
            "top": null,
            "visibility": null,
            "width": null
          }
        },
        "eb671d90270c4038b3d491dcf725878a": {
          "model_module": "@jupyter-widgets/base",
          "model_name": "LayoutModel",
          "model_module_version": "1.2.0",
          "state": {
            "_model_module": "@jupyter-widgets/base",
            "_model_module_version": "1.2.0",
            "_model_name": "LayoutModel",
            "_view_count": null,
            "_view_module": "@jupyter-widgets/base",
            "_view_module_version": "1.2.0",
            "_view_name": "LayoutView",
            "align_content": null,
            "align_items": null,
            "align_self": null,
            "border": null,
            "bottom": null,
            "display": null,
            "flex": null,
            "flex_flow": null,
            "grid_area": null,
            "grid_auto_columns": null,
            "grid_auto_flow": null,
            "grid_auto_rows": null,
            "grid_column": null,
            "grid_gap": null,
            "grid_row": null,
            "grid_template_areas": null,
            "grid_template_columns": null,
            "grid_template_rows": null,
            "height": null,
            "justify_content": null,
            "justify_items": null,
            "left": null,
            "margin": null,
            "max_height": null,
            "max_width": null,
            "min_height": null,
            "min_width": null,
            "object_fit": null,
            "object_position": null,
            "order": null,
            "overflow": null,
            "overflow_x": null,
            "overflow_y": null,
            "padding": null,
            "right": null,
            "top": null,
            "visibility": null,
            "width": null
          }
        },
        "117f53f8356c4ccbbed5481b9edb7e58": {
          "model_module": "@jupyter-widgets/controls",
          "model_name": "DescriptionStyleModel",
          "model_module_version": "1.5.0",
          "state": {
            "_model_module": "@jupyter-widgets/controls",
            "_model_module_version": "1.5.0",
            "_model_name": "DescriptionStyleModel",
            "_view_count": null,
            "_view_module": "@jupyter-widgets/base",
            "_view_module_version": "1.2.0",
            "_view_name": "StyleView",
            "description_width": ""
          }
        },
        "7112d15051b74754ba4c13ea14275540": {
          "model_module": "@jupyter-widgets/base",
          "model_name": "LayoutModel",
          "model_module_version": "1.2.0",
          "state": {
            "_model_module": "@jupyter-widgets/base",
            "_model_module_version": "1.2.0",
            "_model_name": "LayoutModel",
            "_view_count": null,
            "_view_module": "@jupyter-widgets/base",
            "_view_module_version": "1.2.0",
            "_view_name": "LayoutView",
            "align_content": null,
            "align_items": null,
            "align_self": null,
            "border": null,
            "bottom": null,
            "display": null,
            "flex": null,
            "flex_flow": null,
            "grid_area": null,
            "grid_auto_columns": null,
            "grid_auto_flow": null,
            "grid_auto_rows": null,
            "grid_column": null,
            "grid_gap": null,
            "grid_row": null,
            "grid_template_areas": null,
            "grid_template_columns": null,
            "grid_template_rows": null,
            "height": null,
            "justify_content": null,
            "justify_items": null,
            "left": null,
            "margin": null,
            "max_height": null,
            "max_width": null,
            "min_height": null,
            "min_width": null,
            "object_fit": null,
            "object_position": null,
            "order": null,
            "overflow": null,
            "overflow_x": null,
            "overflow_y": null,
            "padding": null,
            "right": null,
            "top": null,
            "visibility": null,
            "width": "20px"
          }
        },
        "dcaabe83187a4583b031fc130d2bc810": {
          "model_module": "@jupyter-widgets/controls",
          "model_name": "ProgressStyleModel",
          "model_module_version": "1.5.0",
          "state": {
            "_model_module": "@jupyter-widgets/controls",
            "_model_module_version": "1.5.0",
            "_model_name": "ProgressStyleModel",
            "_view_count": null,
            "_view_module": "@jupyter-widgets/base",
            "_view_module_version": "1.2.0",
            "_view_name": "StyleView",
            "bar_color": null,
            "description_width": ""
          }
        },
        "c5f957892b6941cda17abef3c79950d6": {
          "model_module": "@jupyter-widgets/base",
          "model_name": "LayoutModel",
          "model_module_version": "1.2.0",
          "state": {
            "_model_module": "@jupyter-widgets/base",
            "_model_module_version": "1.2.0",
            "_model_name": "LayoutModel",
            "_view_count": null,
            "_view_module": "@jupyter-widgets/base",
            "_view_module_version": "1.2.0",
            "_view_name": "LayoutView",
            "align_content": null,
            "align_items": null,
            "align_self": null,
            "border": null,
            "bottom": null,
            "display": null,
            "flex": null,
            "flex_flow": null,
            "grid_area": null,
            "grid_auto_columns": null,
            "grid_auto_flow": null,
            "grid_auto_rows": null,
            "grid_column": null,
            "grid_gap": null,
            "grid_row": null,
            "grid_template_areas": null,
            "grid_template_columns": null,
            "grid_template_rows": null,
            "height": null,
            "justify_content": null,
            "justify_items": null,
            "left": null,
            "margin": null,
            "max_height": null,
            "max_width": null,
            "min_height": null,
            "min_width": null,
            "object_fit": null,
            "object_position": null,
            "order": null,
            "overflow": null,
            "overflow_x": null,
            "overflow_y": null,
            "padding": null,
            "right": null,
            "top": null,
            "visibility": null,
            "width": null
          }
        },
        "8bcb75bbbe294936bea3a8469e08d323": {
          "model_module": "@jupyter-widgets/controls",
          "model_name": "DescriptionStyleModel",
          "model_module_version": "1.5.0",
          "state": {
            "_model_module": "@jupyter-widgets/controls",
            "_model_module_version": "1.5.0",
            "_model_name": "DescriptionStyleModel",
            "_view_count": null,
            "_view_module": "@jupyter-widgets/base",
            "_view_module_version": "1.2.0",
            "_view_name": "StyleView",
            "description_width": ""
          }
        },
        "855989bfc9a34d3fa38a6f44c326e210": {
          "model_module": "@jupyter-widgets/controls",
          "model_name": "HBoxModel",
          "model_module_version": "1.5.0",
          "state": {
            "_dom_classes": [],
            "_model_module": "@jupyter-widgets/controls",
            "_model_module_version": "1.5.0",
            "_model_name": "HBoxModel",
            "_view_count": null,
            "_view_module": "@jupyter-widgets/controls",
            "_view_module_version": "1.5.0",
            "_view_name": "HBoxView",
            "box_style": "",
            "children": [
              "IPY_MODEL_910c08613aff41a2b8a5be71f35960fa",
              "IPY_MODEL_05c7ecc1ebdf4655963bcd9236bebb26",
              "IPY_MODEL_0aed02052adf42ab9473b630028601c4"
            ],
            "layout": "IPY_MODEL_55bf536d80014ec686c6e493d99eb16f"
          }
        },
        "910c08613aff41a2b8a5be71f35960fa": {
          "model_module": "@jupyter-widgets/controls",
          "model_name": "HTMLModel",
          "model_module_version": "1.5.0",
          "state": {
            "_dom_classes": [],
            "_model_module": "@jupyter-widgets/controls",
            "_model_module_version": "1.5.0",
            "_model_name": "HTMLModel",
            "_view_count": null,
            "_view_module": "@jupyter-widgets/controls",
            "_view_module_version": "1.5.0",
            "_view_name": "HTMLView",
            "description": "",
            "description_tooltip": null,
            "layout": "IPY_MODEL_550bf2e2747a47d3bb6fdcdb2ff002e2",
            "placeholder": "​",
            "style": "IPY_MODEL_850def5b9c7548b18d0eb4e7fa667004",
            "value": "special_tokens_map.json: 100%"
          }
        },
        "05c7ecc1ebdf4655963bcd9236bebb26": {
          "model_module": "@jupyter-widgets/controls",
          "model_name": "FloatProgressModel",
          "model_module_version": "1.5.0",
          "state": {
            "_dom_classes": [],
            "_model_module": "@jupyter-widgets/controls",
            "_model_module_version": "1.5.0",
            "_model_name": "FloatProgressModel",
            "_view_count": null,
            "_view_module": "@jupyter-widgets/controls",
            "_view_module_version": "1.5.0",
            "_view_name": "ProgressView",
            "bar_style": "success",
            "description": "",
            "description_tooltip": null,
            "layout": "IPY_MODEL_896b973888ad44859b98f44695abafc3",
            "max": 345,
            "min": 0,
            "orientation": "horizontal",
            "style": "IPY_MODEL_8b6c00f6b14b4067a56106969043d38b",
            "value": 345
          }
        },
        "0aed02052adf42ab9473b630028601c4": {
          "model_module": "@jupyter-widgets/controls",
          "model_name": "HTMLModel",
          "model_module_version": "1.5.0",
          "state": {
            "_dom_classes": [],
            "_model_module": "@jupyter-widgets/controls",
            "_model_module_version": "1.5.0",
            "_model_name": "HTMLModel",
            "_view_count": null,
            "_view_module": "@jupyter-widgets/controls",
            "_view_module_version": "1.5.0",
            "_view_name": "HTMLView",
            "description": "",
            "description_tooltip": null,
            "layout": "IPY_MODEL_52da29c355054d3085400d52b22b1521",
            "placeholder": "​",
            "style": "IPY_MODEL_e9407e244ce941ba821892ea61722935",
            "value": " 345/345 [00:00&lt;00:00, 7.82kB/s]"
          }
        },
        "55bf536d80014ec686c6e493d99eb16f": {
          "model_module": "@jupyter-widgets/base",
          "model_name": "LayoutModel",
          "model_module_version": "1.2.0",
          "state": {
            "_model_module": "@jupyter-widgets/base",
            "_model_module_version": "1.2.0",
            "_model_name": "LayoutModel",
            "_view_count": null,
            "_view_module": "@jupyter-widgets/base",
            "_view_module_version": "1.2.0",
            "_view_name": "LayoutView",
            "align_content": null,
            "align_items": null,
            "align_self": null,
            "border": null,
            "bottom": null,
            "display": null,
            "flex": null,
            "flex_flow": null,
            "grid_area": null,
            "grid_auto_columns": null,
            "grid_auto_flow": null,
            "grid_auto_rows": null,
            "grid_column": null,
            "grid_gap": null,
            "grid_row": null,
            "grid_template_areas": null,
            "grid_template_columns": null,
            "grid_template_rows": null,
            "height": null,
            "justify_content": null,
            "justify_items": null,
            "left": null,
            "margin": null,
            "max_height": null,
            "max_width": null,
            "min_height": null,
            "min_width": null,
            "object_fit": null,
            "object_position": null,
            "order": null,
            "overflow": null,
            "overflow_x": null,
            "overflow_y": null,
            "padding": null,
            "right": null,
            "top": null,
            "visibility": null,
            "width": null
          }
        },
        "550bf2e2747a47d3bb6fdcdb2ff002e2": {
          "model_module": "@jupyter-widgets/base",
          "model_name": "LayoutModel",
          "model_module_version": "1.2.0",
          "state": {
            "_model_module": "@jupyter-widgets/base",
            "_model_module_version": "1.2.0",
            "_model_name": "LayoutModel",
            "_view_count": null,
            "_view_module": "@jupyter-widgets/base",
            "_view_module_version": "1.2.0",
            "_view_name": "LayoutView",
            "align_content": null,
            "align_items": null,
            "align_self": null,
            "border": null,
            "bottom": null,
            "display": null,
            "flex": null,
            "flex_flow": null,
            "grid_area": null,
            "grid_auto_columns": null,
            "grid_auto_flow": null,
            "grid_auto_rows": null,
            "grid_column": null,
            "grid_gap": null,
            "grid_row": null,
            "grid_template_areas": null,
            "grid_template_columns": null,
            "grid_template_rows": null,
            "height": null,
            "justify_content": null,
            "justify_items": null,
            "left": null,
            "margin": null,
            "max_height": null,
            "max_width": null,
            "min_height": null,
            "min_width": null,
            "object_fit": null,
            "object_position": null,
            "order": null,
            "overflow": null,
            "overflow_x": null,
            "overflow_y": null,
            "padding": null,
            "right": null,
            "top": null,
            "visibility": null,
            "width": null
          }
        },
        "850def5b9c7548b18d0eb4e7fa667004": {
          "model_module": "@jupyter-widgets/controls",
          "model_name": "DescriptionStyleModel",
          "model_module_version": "1.5.0",
          "state": {
            "_model_module": "@jupyter-widgets/controls",
            "_model_module_version": "1.5.0",
            "_model_name": "DescriptionStyleModel",
            "_view_count": null,
            "_view_module": "@jupyter-widgets/base",
            "_view_module_version": "1.2.0",
            "_view_name": "StyleView",
            "description_width": ""
          }
        },
        "896b973888ad44859b98f44695abafc3": {
          "model_module": "@jupyter-widgets/base",
          "model_name": "LayoutModel",
          "model_module_version": "1.2.0",
          "state": {
            "_model_module": "@jupyter-widgets/base",
            "_model_module_version": "1.2.0",
            "_model_name": "LayoutModel",
            "_view_count": null,
            "_view_module": "@jupyter-widgets/base",
            "_view_module_version": "1.2.0",
            "_view_name": "LayoutView",
            "align_content": null,
            "align_items": null,
            "align_self": null,
            "border": null,
            "bottom": null,
            "display": null,
            "flex": null,
            "flex_flow": null,
            "grid_area": null,
            "grid_auto_columns": null,
            "grid_auto_flow": null,
            "grid_auto_rows": null,
            "grid_column": null,
            "grid_gap": null,
            "grid_row": null,
            "grid_template_areas": null,
            "grid_template_columns": null,
            "grid_template_rows": null,
            "height": null,
            "justify_content": null,
            "justify_items": null,
            "left": null,
            "margin": null,
            "max_height": null,
            "max_width": null,
            "min_height": null,
            "min_width": null,
            "object_fit": null,
            "object_position": null,
            "order": null,
            "overflow": null,
            "overflow_x": null,
            "overflow_y": null,
            "padding": null,
            "right": null,
            "top": null,
            "visibility": null,
            "width": null
          }
        },
        "8b6c00f6b14b4067a56106969043d38b": {
          "model_module": "@jupyter-widgets/controls",
          "model_name": "ProgressStyleModel",
          "model_module_version": "1.5.0",
          "state": {
            "_model_module": "@jupyter-widgets/controls",
            "_model_module_version": "1.5.0",
            "_model_name": "ProgressStyleModel",
            "_view_count": null,
            "_view_module": "@jupyter-widgets/base",
            "_view_module_version": "1.2.0",
            "_view_name": "StyleView",
            "bar_color": null,
            "description_width": ""
          }
        },
        "52da29c355054d3085400d52b22b1521": {
          "model_module": "@jupyter-widgets/base",
          "model_name": "LayoutModel",
          "model_module_version": "1.2.0",
          "state": {
            "_model_module": "@jupyter-widgets/base",
            "_model_module_version": "1.2.0",
            "_model_name": "LayoutModel",
            "_view_count": null,
            "_view_module": "@jupyter-widgets/base",
            "_view_module_version": "1.2.0",
            "_view_name": "LayoutView",
            "align_content": null,
            "align_items": null,
            "align_self": null,
            "border": null,
            "bottom": null,
            "display": null,
            "flex": null,
            "flex_flow": null,
            "grid_area": null,
            "grid_auto_columns": null,
            "grid_auto_flow": null,
            "grid_auto_rows": null,
            "grid_column": null,
            "grid_gap": null,
            "grid_row": null,
            "grid_template_areas": null,
            "grid_template_columns": null,
            "grid_template_rows": null,
            "height": null,
            "justify_content": null,
            "justify_items": null,
            "left": null,
            "margin": null,
            "max_height": null,
            "max_width": null,
            "min_height": null,
            "min_width": null,
            "object_fit": null,
            "object_position": null,
            "order": null,
            "overflow": null,
            "overflow_x": null,
            "overflow_y": null,
            "padding": null,
            "right": null,
            "top": null,
            "visibility": null,
            "width": null
          }
        },
        "e9407e244ce941ba821892ea61722935": {
          "model_module": "@jupyter-widgets/controls",
          "model_name": "DescriptionStyleModel",
          "model_module_version": "1.5.0",
          "state": {
            "_model_module": "@jupyter-widgets/controls",
            "_model_module_version": "1.5.0",
            "_model_name": "DescriptionStyleModel",
            "_view_count": null,
            "_view_module": "@jupyter-widgets/base",
            "_view_module_version": "1.2.0",
            "_view_name": "StyleView",
            "description_width": ""
          }
        }
      }
    }
  },
  "cells": [
    {
      "cell_type": "markdown",
      "metadata": {
        "id": "view-in-github",
        "colab_type": "text"
      },
      "source": [
        "<a href=\"https://colab.research.google.com/github/mr-cri-spy/LLM-Playground/blob/main/Token_Counts_Practical_Intuition_Impact.ipynb\" target=\"_parent\"><img src=\"https://colab.research.google.com/assets/colab-badge.svg\" alt=\"Open In Colab\"/></a>"
      ]
    },
    {
      "cell_type": "markdown",
      "source": [
        "Install and understand the purpose of specific library versions.\n",
        "Gain practical intuition on how token counts can impact model performance.\n",
        "Analyze tokenization to understand text preprocessing in natural language processing models."
      ],
      "metadata": {
        "id": "-MwpORzzGLAD"
      }
    },
    {
      "cell_type": "code",
      "source": [
        "!pip install transformers==4.41.0"
      ],
      "metadata": {
        "colab": {
          "base_uri": "https://localhost:8080/"
        },
        "id": "9p1ynmioGVa_",
        "outputId": "184a8921-2a04-4dbf-f506-6fe83b8b53d8"
      },
      "execution_count": 1,
      "outputs": [
        {
          "output_type": "stream",
          "name": "stdout",
          "text": [
            "Collecting transformers==4.41.0\n",
            "  Downloading transformers-4.41.0-py3-none-any.whl.metadata (43 kB)\n",
            "\u001b[?25l     \u001b[90m━━━━━━━━━━━━━━━━━━━━━━━━━━━━━━━━━━━━━━━━\u001b[0m \u001b[32m0.0/43.8 kB\u001b[0m \u001b[31m?\u001b[0m eta \u001b[36m-:--:--\u001b[0m\r\u001b[2K     \u001b[90m━━━━━━━━━━━━━━━━━━━━━━━━━━━━━━━━━━━━━━━━\u001b[0m \u001b[32m43.8/43.8 kB\u001b[0m \u001b[31m1.3 MB/s\u001b[0m eta \u001b[36m0:00:00\u001b[0m\n",
            "\u001b[?25hRequirement already satisfied: filelock in /usr/local/lib/python3.11/dist-packages (from transformers==4.41.0) (3.18.0)\n",
            "Requirement already satisfied: huggingface-hub<1.0,>=0.23.0 in /usr/local/lib/python3.11/dist-packages (from transformers==4.41.0) (0.34.4)\n",
            "Requirement already satisfied: numpy>=1.17 in /usr/local/lib/python3.11/dist-packages (from transformers==4.41.0) (2.0.2)\n",
            "Requirement already satisfied: packaging>=20.0 in /usr/local/lib/python3.11/dist-packages (from transformers==4.41.0) (25.0)\n",
            "Requirement already satisfied: pyyaml>=5.1 in /usr/local/lib/python3.11/dist-packages (from transformers==4.41.0) (6.0.2)\n",
            "Requirement already satisfied: regex!=2019.12.17 in /usr/local/lib/python3.11/dist-packages (from transformers==4.41.0) (2024.11.6)\n",
            "Requirement already satisfied: requests in /usr/local/lib/python3.11/dist-packages (from transformers==4.41.0) (2.32.3)\n",
            "Collecting tokenizers<0.20,>=0.19 (from transformers==4.41.0)\n",
            "  Downloading tokenizers-0.19.1-cp311-cp311-manylinux_2_17_x86_64.manylinux2014_x86_64.whl.metadata (6.7 kB)\n",
            "Requirement already satisfied: safetensors>=0.4.1 in /usr/local/lib/python3.11/dist-packages (from transformers==4.41.0) (0.6.2)\n",
            "Requirement already satisfied: tqdm>=4.27 in /usr/local/lib/python3.11/dist-packages (from transformers==4.41.0) (4.67.1)\n",
            "Requirement already satisfied: fsspec>=2023.5.0 in /usr/local/lib/python3.11/dist-packages (from huggingface-hub<1.0,>=0.23.0->transformers==4.41.0) (2025.3.0)\n",
            "Requirement already satisfied: typing-extensions>=3.7.4.3 in /usr/local/lib/python3.11/dist-packages (from huggingface-hub<1.0,>=0.23.0->transformers==4.41.0) (4.14.1)\n",
            "Requirement already satisfied: hf-xet<2.0.0,>=1.1.3 in /usr/local/lib/python3.11/dist-packages (from huggingface-hub<1.0,>=0.23.0->transformers==4.41.0) (1.1.7)\n",
            "Requirement already satisfied: charset-normalizer<4,>=2 in /usr/local/lib/python3.11/dist-packages (from requests->transformers==4.41.0) (3.4.3)\n",
            "Requirement already satisfied: idna<4,>=2.5 in /usr/local/lib/python3.11/dist-packages (from requests->transformers==4.41.0) (3.10)\n",
            "Requirement already satisfied: urllib3<3,>=1.21.1 in /usr/local/lib/python3.11/dist-packages (from requests->transformers==4.41.0) (2.5.0)\n",
            "Requirement already satisfied: certifi>=2017.4.17 in /usr/local/lib/python3.11/dist-packages (from requests->transformers==4.41.0) (2025.8.3)\n",
            "Downloading transformers-4.41.0-py3-none-any.whl (9.1 MB)\n",
            "\u001b[2K   \u001b[90m━━━━━━━━━━━━━━━━━━━━━━━━━━━━━━━━━━━━━━━━\u001b[0m \u001b[32m9.1/9.1 MB\u001b[0m \u001b[31m64.1 MB/s\u001b[0m eta \u001b[36m0:00:00\u001b[0m\n",
            "\u001b[?25hDownloading tokenizers-0.19.1-cp311-cp311-manylinux_2_17_x86_64.manylinux2014_x86_64.whl (3.6 MB)\n",
            "\u001b[2K   \u001b[90m━━━━━━━━━━━━━━━━━━━━━━━━━━━━━━━━━━━━━━━━\u001b[0m \u001b[32m3.6/3.6 MB\u001b[0m \u001b[31m87.3 MB/s\u001b[0m eta \u001b[36m0:00:00\u001b[0m\n",
            "\u001b[?25hInstalling collected packages: tokenizers, transformers\n",
            "  Attempting uninstall: tokenizers\n",
            "    Found existing installation: tokenizers 0.21.4\n",
            "    Uninstalling tokenizers-0.21.4:\n",
            "      Successfully uninstalled tokenizers-0.21.4\n",
            "  Attempting uninstall: transformers\n",
            "    Found existing installation: transformers 4.55.1\n",
            "    Uninstalling transformers-4.55.1:\n",
            "      Successfully uninstalled transformers-4.55.1\n",
            "Successfully installed tokenizers-0.19.1 transformers-4.41.0\n"
          ]
        }
      ]
    },
    {
      "cell_type": "code",
      "source": [
        "from transformers import AutoTokenizer"
      ],
      "metadata": {
        "id": "v4DoRNNUGVz0"
      },
      "execution_count": 2,
      "outputs": []
    },
    {
      "cell_type": "markdown",
      "source": [
        "Initialize the tokenizer with a specific pre-trained model. We will also check the vocabulary size to understand the scope of tokens it can handle."
      ],
      "metadata": {
        "id": "I6CbN_uIGo7U"
      }
    },
    {
      "cell_type": "code",
      "source": [
        "tokenizer = AutoTokenizer.from_pretrained(\"unsloth/llama-3-8b-Instruct\")\n",
        "tokenizer.vocab_size"
      ],
      "metadata": {
        "colab": {
          "base_uri": "https://localhost:8080/",
          "height": 281,
          "referenced_widgets": [
            "f1a42412d3c94f519be84163ed57b461",
            "937dda72bbeb4f43affac4f3ae9859d2",
            "f0f0181585eb4056839a642730b77119",
            "0e4a32830a4449238cb0c48bf306c554",
            "db78b4842ce04fa6abe9b12adc47dc7b",
            "048c4830d03f4ad687dcc0e96a208c09",
            "eb8cb3d4da944ac285b75a6842705b4d",
            "0eee95265e864124838ffa99c0615e66",
            "e65eca8a6e1d4bee9ded2ff843f80a92",
            "16c1e60fc4c14cc59f84d5f1c149677d",
            "0094d5647f55484ca9bdf1cb761e8cba",
            "1c1d55eec0f246a98e57978b3a3857b7",
            "74355df123274f69888bd8aeee36b47f",
            "54a6875b2b2d420da1d917e4c160d511",
            "35ee998ada8647d2ab6651e25f338e65",
            "5d5c4e44fff6472c98bfbd4d3cd592e1",
            "eb671d90270c4038b3d491dcf725878a",
            "117f53f8356c4ccbbed5481b9edb7e58",
            "7112d15051b74754ba4c13ea14275540",
            "dcaabe83187a4583b031fc130d2bc810",
            "c5f957892b6941cda17abef3c79950d6",
            "8bcb75bbbe294936bea3a8469e08d323",
            "855989bfc9a34d3fa38a6f44c326e210",
            "910c08613aff41a2b8a5be71f35960fa",
            "05c7ecc1ebdf4655963bcd9236bebb26",
            "0aed02052adf42ab9473b630028601c4",
            "55bf536d80014ec686c6e493d99eb16f",
            "550bf2e2747a47d3bb6fdcdb2ff002e2",
            "850def5b9c7548b18d0eb4e7fa667004",
            "896b973888ad44859b98f44695abafc3",
            "8b6c00f6b14b4067a56106969043d38b",
            "52da29c355054d3085400d52b22b1521",
            "e9407e244ce941ba821892ea61722935"
          ]
        },
        "id": "htBIYlO6GgW2",
        "outputId": "aed7c1be-f858-4daa-e0a5-8cb5d6e71e27"
      },
      "execution_count": 3,
      "outputs": [
        {
          "output_type": "stream",
          "name": "stderr",
          "text": [
            "/usr/local/lib/python3.11/dist-packages/huggingface_hub/utils/_auth.py:94: UserWarning: \n",
            "The secret `HF_TOKEN` does not exist in your Colab secrets.\n",
            "To authenticate with the Hugging Face Hub, create a token in your settings tab (https://huggingface.co/settings/tokens), set it as secret in your Google Colab and restart your session.\n",
            "You will be able to reuse this secret in all of your notebooks.\n",
            "Please note that authentication is recommended but still optional to access public models or datasets.\n",
            "  warnings.warn(\n"
          ]
        },
        {
          "output_type": "display_data",
          "data": {
            "text/plain": [
              "tokenizer_config.json: 0.00B [00:00, ?B/s]"
            ],
            "application/vnd.jupyter.widget-view+json": {
              "version_major": 2,
              "version_minor": 0,
              "model_id": "f1a42412d3c94f519be84163ed57b461"
            }
          },
          "metadata": {}
        },
        {
          "output_type": "display_data",
          "data": {
            "text/plain": [
              "tokenizer.json: 0.00B [00:00, ?B/s]"
            ],
            "application/vnd.jupyter.widget-view+json": {
              "version_major": 2,
              "version_minor": 0,
              "model_id": "1c1d55eec0f246a98e57978b3a3857b7"
            }
          },
          "metadata": {}
        },
        {
          "output_type": "display_data",
          "data": {
            "text/plain": [
              "special_tokens_map.json:   0%|          | 0.00/345 [00:00<?, ?B/s]"
            ],
            "application/vnd.jupyter.widget-view+json": {
              "version_major": 2,
              "version_minor": 0,
              "model_id": "855989bfc9a34d3fa38a6f44c326e210"
            }
          },
          "metadata": {}
        },
        {
          "output_type": "stream",
          "name": "stderr",
          "text": [
            "Special tokens have been added in the vocabulary, make sure the associated word embeddings are fine-tuned or trained.\n"
          ]
        },
        {
          "output_type": "execute_result",
          "data": {
            "text/plain": [
              "128000"
            ]
          },
          "metadata": {},
          "execution_count": 3
        }
      ]
    },
    {
      "cell_type": "code",
      "source": [
        "text = \"\"\"\n",
        "Mysore , officially Mysuru (Kannada: [ˈmaɪˈsuːɾu] ⓘ), is a city in the southern Indian state of Karnataka.[5] It is the headquarters of Mysore district and Mysore division. As the traditional seat of the Wadiyar dynasty, the city functioned as the capital of the Kingdom of Mysore for almost six centuries (1399 to 1947). Known for its heritage structures, palaces (such as the famous Mysore Palace), and its culture, Mysore has been called the \"City of Palaces\", the \"Heritage City\",[6] and the \"Cultural capital of Karnataka\".[7] It is the second-most populous city in the state and one of the cleanest cities in India according to the Swachh Survekshan.\n",
        "\n",
        "Mysore is situated at the foothills of the Chamundi Hills. At an altitude of 770 m (2,530 ft) above mean sea level, the city of Mysore is geographically located at 12° 18′ 26″ north latitude and 76° 38′ 59″ east longitude. It is about 140 km (87.0 mi) southwest of the state's capital, Bangalore, and spreads across an area of 156 km2 (60 sq mi) (city and neighbouring census towns).[8] The population of the city combined with its neighbouring towns in its metropolitan area is about 1,288,000 in 2023.[9]\n",
        "\n",
        "Most of the city's development during modern times could be attributed to the maharajas of Mysore and the Wadiyar dynasty, who were patrons of art and culture. Hyder Ali and Tipu Sultan, when they were briefly in power in succession, also contributed significantly to the economic growth of the city and the kingdom by planting mulberry trees and silk in the region, and fighting four wars against the British. In present days, the Mysore City Corporation is responsible for the civic administration of the city.\n",
        "\n",
        "During the Dasara festivals, Mysore receives hundreds of thousands of tourists from around the world. The city is also the namesake to various art forms and culture, such as Mysore Dasara and Mysore painting; foods such as the sweet delicacy Mysore pak; breakfasts like Mysore Dosa and Mysore Masala Dosa; brands such as Mysore Sandal Soap and Mysore Paints; and styles and cosmetics such as Mysore peta, a traditional silk turban, and the Mysore silk saris. Mysore is also known for betel leaves and its own special variety of jasmine flower fondly referred to as \"Mysore mallige\". Tourism is a lifeline industry for the city alongside the traditional industries. Mysore's intracity public transportation includes bus and intercity public transportation includes rail, bus, and air.[10]\n",
        "\n",
        "Etymology\n",
        "The name Mysore is an anglicised form of Mahiṣūru,[11] which means \"the abode of Mahiṣa\" in the vernacular Kannada. The common noun Mahiṣa, in Sanskrit, means buffalo; in this context, however, Mahiṣa refers to Mahishasura, a mythical daemon who could assume the form of either a human or a buffalo, and who, according to Hindu mythology, ruled the ancient parts of Mysore Kingdom, known in Sanskrit as Mahiṣaka, centred at Mahiṣapura.[11] He was killed by the goddess Chamundeshwari, whose temple is situated atop the Chamundi Hill, after whom it is named. 'Mahishapura'[12] later became Mahisūru (a name which, even now, the royal family uses), and finally came to be rendered as Mysore by the British and Maisūru (Mysuru) in the vernacular Kannada language.[13]\n",
        "\n",
        "In December 2005, the Government of Karnataka announced its intention to change the English spelling of the city to Mysuru.[14] This was approved by the Government of India in October 2014, and Mysore was officially renamed, along with twelve other cities, on 1 November 2014.[15][16][17][18]\n",
        "\n",
        "History\n",
        "Further information: Kingdom of Mysore\n",
        "\n",
        "Chamundeshwari Temple dedicated to Goddess Chamundeshwari, tutelary deity of Mysore city.\n",
        "\n",
        "Map of Mysore and nearby Srirangapatna, c. 1914\n",
        "The site where Mysore Palace now stands was occupied by a village named Puragere at the beginning of the 16th century.[19]: 281  The Mahishūru Fort was constructed in 1524 by Chamaraja Wodeyar III (1513–1553),[19]: 257  who passed on the dominion of Puragere to his son Chamaraja Wodeyar IV (1572–1576). Since the 16th century, the name of Mayashūru has commonly been used to denote the city.[20]: 31  The Kingdom of Mysore, governed by the Wodeyar family, initially served as a vassal state of the Vijayanagara Empire. With the decline of that empire after the Battle of Talikota in 1565, the Mysore Kingdom gradually achieved independence, and by the time of King Narasaraja Wodeyar (1637), it had become a sovereign state.[21]: 228  Seringapatam, near Mysore, the present-day Srirangapatna, was the capital of the kingdom beginning in 1610.[19]: 257  The 17th century saw a steady expansion of its territory and, under Narasaraja Wodeyar I and Chikka Devaraja Wodeyar, the kingdom annexed large areas of what is now southern Karnataka and parts of Tamil Nadu, to become a powerful state in the southern Deccan.\n",
        "\n",
        "The kingdom reached the height of its military power and dominion in the latter half of the 18th century, under the de facto rulers Hyder Ali and his son Tipu Sultan. The latter demolished parts of Mysore to remove legacies of the Wodeyar dynasty.[19]: 257  During this time, the kingdom of Mysore came into conflict with the Marathas, the British, and the Nizam of Hyderabad, leading to the four Anglo-Mysore wars, success in the first two of which was followed by defeat in the third and fourth. After Tipu Sultan's death in the Fourth Anglo-Mysore War in 1799, the capital of the kingdom was moved back to Mysore from Seringapatam,[21]: 249  and the kingdom was distributed by the British to their allies of the Fourth Anglo-Mysore War. Part of the kingdom was annexed into the Madras Presidency, another to the Nizam of Hyderabad. The landlocked interior of the defeated kingdom of Mysore was turned into a princely state under the suzerainty of the British Crown,[21]: 249  with the five-year-old Wodeyar Krishnaraja III as titular ruler and with Purnaiah, who had served under Tipu, as chief minister or diwan and Lt. Col. Barry Close as Resident. The British took control of Mysore's foreign policy and insisted on an annual tribute for maintaining a standing British army at Mysore.[22][23][24] Purnaiah is credited with improving Mysore's public works.[21] In 1831, claiming there was maladministration, the British took direct control of the princely state.[25][26] For the next fifty years, the kingdom of Mysore was under the direct rule of British Commissioners,[27] and in 1831 the city of Mysore lost its status as the administrative centre, when the British Commissioner moved the capital to Bangalore.[21]: 251\n",
        "\n",
        "In 1876–77, towards the end of the period of direct British rule, Mysore suffered from the Great Famine of 1876–1878, in which nearly a fifth of the population died.[28] In 1881, Maharaja Chamaraja Wadiyar X was given control of Mysore, in a process called rendition, but with a resident British officer and a diwan to handle the Maharaja's administration,[29] and the city of Mysore regained its status as the capital.[21]: 254  The Mysore municipality was established in 1888 and the city was divided into eight wards.[20]: 283  In 1897 an outbreak of bubonic plague killed nearly half of the population of the city.[30] With the establishment of the City Improvement Trust Board (CITB) in 1903, Mysore became one of the first cities in Asia to undertake planned urban development.[31] Public demonstrations and meetings were held there during the Quit India movement and other phases of the Indian independence movement.[32]\n",
        "\n",
        "Until the independence of British India (which did not include Mysore) in 1947, Mysore remained a Princely State within the British Indian Empire, with the Wodeyars continuing their rule.[29] After Indian Independence, Mysore city remained as part of the Mysore State, now known as Karnataka. Jayachamarajendra Wodeyar, then king of Mysore, was allowed to retain his titles and was nominated as the Rajapramukh (appointed governor) of the state with a £20,000 payment.[33] He died in September 1974 and was cremated in Mysore.[34]\n",
        "\n",
        "Over the years, Mysore became well known as a centre for tourism; the city remained largely peaceful, except for occasional riots related to the Kaveri River Water Dispute.[35] Among the events that took place in Mysore and made national headlines were a fire at a television studio that claimed 62 lives in 1989,[36] and the sudden deaths of many animals at the Mysore Zoo.[37]\n",
        "\n",
        "Geography\n",
        "Area and extent\n",
        "\n",
        "View of the city from Chamundi Hills\n",
        "\n",
        "Mysore Palace seen from Chamundi Hill Viewpoint at night\n",
        "Mysore is located at 12.30°N 74.65°E and has an average altitude of 770 metres (2,526 ft).[38] It is spread across an area of 286.05 km2 (110 sq mi)[39]: 4  at the base of the Chamundi Hills in the southern region of Karnataka. Mysore is the southernmost city of Karnataka and is a neighbouring city of the states of Kerala and Tamil Nadu in the south, flanked by the state cities Madikeri, Chamarajanagara, and Mandya. People in and around Mysore extensively use Kannada as a medium of language. Mysore has several lakes, such as the Kukkarahalli, the Karanji, and the Lingambudhi lakes. Mysore has The Biggest 'Walk-Through Aviary' called Karanji Lake in India. In 2001, total land area usage in Mysore city was 39.9% residential, 16.1% roads, 13.74% parks and open spaces, 13.48% industrial, 8.96% public property, 3.02% commercial, 2.27% agriculture and 2.02 water.[40]: 35  The city is located between two rivers: the Kaveri River that flows through the north of the city and the Kabini River, a tributary of the Kaveri, that lies to the south.\"\"\""
      ],
      "metadata": {
        "id": "-l3hOFJNG-lO"
      },
      "execution_count": 8,
      "outputs": []
    },
    {
      "cell_type": "markdown",
      "source": [
        "#Tokenization and Counting\n",
        "Tokenize the provided text and count the number of tokens. This measure is important to evaluate how much information the model processes at once and impacts performance and accuracy."
      ],
      "metadata": {
        "id": "X7f65RL9HEPC"
      }
    },
    {
      "cell_type": "code",
      "source": [
        "input_ids = tokenizer(text).input_ids\n",
        "len(input_ids)"
      ],
      "metadata": {
        "colab": {
          "base_uri": "https://localhost:8080/"
        },
        "id": "FDT-_ePPG_Qh",
        "outputId": "2037f7fb-bf8d-4d61-9b52-b68bde109ead"
      },
      "execution_count": 9,
      "outputs": [
        {
          "output_type": "execute_result",
          "data": {
            "text/plain": [
              "2472"
            ]
          },
          "metadata": {},
          "execution_count": 9
        }
      ]
    }
  ]
}
